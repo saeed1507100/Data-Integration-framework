{
 "cells": [
  {
   "cell_type": "code",
   "execution_count": 9,
   "id": "c7706c04",
   "metadata": {},
   "outputs": [
    {
     "name": "stdout",
     "output_type": "stream",
     "text": [
      "text/html; charset=utf-8\n",
      "CPU times: user 35.3 ms, sys: 9.09 ms, total: 44.4 ms\n",
      "Wall time: 1.02 s\n"
     ]
    },
    {
     "data": {
      "text/plain": [
       "5192"
      ]
     },
     "execution_count": 9,
     "metadata": {},
     "output_type": "execute_result"
    }
   ],
   "source": [
    "%%time\n",
    "import requests\n",
    "URL = \"https://www.kaggle.com/datasets/mcarujo/european-football-season-202223/download?datasetVersionNumber=3\"\n",
    "headers = {'User-Agent': 'Mozilla/5.0 (Macintosh; Intel Mac OS X 10_10_1) AppleWebKit/537.36 (KHTML, like Gecko) Chrome/39.0.2171.95 Safari/537.36'}\n",
    "response = requests.get(URL, allow_redirects=True, headers=headers)\n",
    "print(response.headers.get('content-type'))\n",
    "open(\"European_footbal_22_23_requests.zip\", 'wb').write(response.content)"
   ]
  },
  {
   "cell_type": "code",
   "execution_count": 7,
   "id": "7b3b31ee",
   "metadata": {},
   "outputs": [
    {
     "name": "stdout",
     "output_type": "stream",
     "text": [
      "\r",
      "-1 / unknown\r",
      "-1 / unknownEuropean_footbal_22_23_wget.zip\n",
      "CPU times: user 31.4 ms, sys: 15.5 ms, total: 46.9 ms\n",
      "Wall time: 1.71 s\n"
     ]
    }
   ],
   "source": [
    "%%time\n",
    "\n",
    "import wget\n",
    "URL = \"https://www.kaggle.com/datasets/mcarujo/european-football-season-202223/download?datasetVersionNumber=3\"\n",
    "response = wget.download(URL, \"European_footbal_22_23_wget.zip\")\n",
    "print(response)"
   ]
  },
  {
   "cell_type": "code",
   "execution_count": 11,
   "id": "7d851980",
   "metadata": {},
   "outputs": [
    {
     "name": "stdout",
     "output_type": "stream",
     "text": [
      "Warning: Your Kaggle API key is readable by other users on this system! To fix this, you can run 'chmod 600 /Users/saeed.anwar/.kaggle/kaggle.json'\n"
     ]
    }
   ],
   "source": [
    "import kaggle"
   ]
  },
  {
   "cell_type": "code",
   "execution_count": 15,
   "id": "dbf57a34",
   "metadata": {},
   "outputs": [
    {
     "name": "stdout",
     "output_type": "stream",
     "text": [
      "Warning: Your Kaggle API key is readable by other users on this system! To fix this, you can run 'chmod 600 /Users/saeed.anwar/.kaggle/kaggle.json'\n"
     ]
    },
    {
     "data": {
      "text/plain": [
       "True"
      ]
     },
     "execution_count": 15,
     "metadata": {},
     "output_type": "execute_result"
    }
   ],
   "source": [
    "from kaggle.api.kaggle_api_extended import KaggleApi\n",
    "api = KaggleApi()\n",
    "api.authenticate()\n",
    "\n",
    "api.dataset_download_file('yuanmozhu/online-data-it-courses-information',\n",
    "                         'courses.csv')"
   ]
  },
  {
   "cell_type": "code",
   "execution_count": 17,
   "id": "da328563",
   "metadata": {},
   "outputs": [
    {
     "data": {
      "text/html": [
       "<div>\n",
       "<style scoped>\n",
       "    .dataframe tbody tr th:only-of-type {\n",
       "        vertical-align: middle;\n",
       "    }\n",
       "\n",
       "    .dataframe tbody tr th {\n",
       "        vertical-align: top;\n",
       "    }\n",
       "\n",
       "    .dataframe thead th {\n",
       "        text-align: right;\n",
       "    }\n",
       "</style>\n",
       "<table border=\"1\" class=\"dataframe\">\n",
       "  <thead>\n",
       "    <tr style=\"text-align: right;\">\n",
       "      <th></th>\n",
       "      <th>Course Name</th>\n",
       "      <th>Ratings(out of 5)</th>\n",
       "      <th>reviews</th>\n",
       "      <th>skill 1</th>\n",
       "      <th>skill 2</th>\n",
       "      <th>skill 3</th>\n",
       "      <th>skill 4</th>\n",
       "      <th>skill 5</th>\n",
       "    </tr>\n",
       "  </thead>\n",
       "  <tbody>\n",
       "    <tr>\n",
       "      <th>0</th>\n",
       "      <td>What is Data Science?</td>\n",
       "      <td>4.7</td>\n",
       "      <td>56,977</td>\n",
       "      <td>Data Science</td>\n",
       "      <td>Deep Learning</td>\n",
       "      <td>Machine Learning</td>\n",
       "      <td>Big Data</td>\n",
       "      <td>Data Mining</td>\n",
       "    </tr>\n",
       "    <tr>\n",
       "      <th>1</th>\n",
       "      <td>Tools for Data Science</td>\n",
       "      <td>4.5</td>\n",
       "      <td>24,584</td>\n",
       "      <td>Data Science</td>\n",
       "      <td>Github</td>\n",
       "      <td>Python Programming</td>\n",
       "      <td>Jupyter notebooks</td>\n",
       "      <td>Rstudio</td>\n",
       "    </tr>\n",
       "    <tr>\n",
       "      <th>2</th>\n",
       "      <td>Data Science Methodology</td>\n",
       "      <td>4.6</td>\n",
       "      <td>18,023</td>\n",
       "      <td>Data Science</td>\n",
       "      <td>Data Mining</td>\n",
       "      <td>Methodology</td>\n",
       "      <td>NaN</td>\n",
       "      <td>NaN</td>\n",
       "    </tr>\n",
       "    <tr>\n",
       "      <th>3</th>\n",
       "      <td>Python for Data Science, AI &amp; Development</td>\n",
       "      <td>4.6</td>\n",
       "      <td>27,986</td>\n",
       "      <td>Data Science</td>\n",
       "      <td>Python Programming</td>\n",
       "      <td>Data Analysis</td>\n",
       "      <td>Pandas</td>\n",
       "      <td>Numpy</td>\n",
       "    </tr>\n",
       "    <tr>\n",
       "      <th>4</th>\n",
       "      <td>Introduction to Databases</td>\n",
       "      <td>4.7</td>\n",
       "      <td>33</td>\n",
       "      <td>Database (DBMS)</td>\n",
       "      <td>MySQL</td>\n",
       "      <td>database administration</td>\n",
       "      <td>NaN</td>\n",
       "      <td>NaN</td>\n",
       "    </tr>\n",
       "    <tr>\n",
       "      <th>...</th>\n",
       "      <td>...</td>\n",
       "      <td>...</td>\n",
       "      <td>...</td>\n",
       "      <td>...</td>\n",
       "      <td>...</td>\n",
       "      <td>...</td>\n",
       "      <td>...</td>\n",
       "      <td>...</td>\n",
       "    </tr>\n",
       "    <tr>\n",
       "      <th>101</th>\n",
       "      <td>Boosting Productivity through the Tech Stack</td>\n",
       "      <td>NaN</td>\n",
       "      <td>NaN</td>\n",
       "      <td>Prospecting</td>\n",
       "      <td>video prospecting</td>\n",
       "      <td>Sales Development</td>\n",
       "      <td>sales engagement</td>\n",
       "      <td>Customer Relationship Management Software</td>\n",
       "    </tr>\n",
       "    <tr>\n",
       "      <th>102</th>\n",
       "      <td>Sales Enablement</td>\n",
       "      <td>NaN</td>\n",
       "      <td>NaN</td>\n",
       "      <td>Customer Relationship Management (CRM)</td>\n",
       "      <td>Content Creation</td>\n",
       "      <td>Customer Success</td>\n",
       "      <td>Sales</td>\n",
       "      <td>Sales Enablement</td>\n",
       "    </tr>\n",
       "    <tr>\n",
       "      <th>103</th>\n",
       "      <td>Inbound Sales</td>\n",
       "      <td>NaN</td>\n",
       "      <td>NaN</td>\n",
       "      <td>Outreach Sequence</td>\n",
       "      <td>Social Selling</td>\n",
       "      <td>Customer Experience</td>\n",
       "      <td>Inside Sales</td>\n",
       "      <td>Sales Presentation</td>\n",
       "    </tr>\n",
       "    <tr>\n",
       "      <th>104</th>\n",
       "      <td>Lead Management with HubSpot</td>\n",
       "      <td>NaN</td>\n",
       "      <td>NaN</td>\n",
       "      <td>Customer Relationship Management (CRM)</td>\n",
       "      <td>Data Analysis</td>\n",
       "      <td>Lead Management</td>\n",
       "      <td>NaN</td>\n",
       "      <td>NaN</td>\n",
       "    </tr>\n",
       "    <tr>\n",
       "      <th>105</th>\n",
       "      <td>Sales Reporting with HubSpot</td>\n",
       "      <td>NaN</td>\n",
       "      <td>NaN</td>\n",
       "      <td>Data Management</td>\n",
       "      <td>Customer Relationship Management (CRM)</td>\n",
       "      <td>Data Analysis</td>\n",
       "      <td>Sales</td>\n",
       "      <td>Data Visualization (DataViz)</td>\n",
       "    </tr>\n",
       "  </tbody>\n",
       "</table>\n",
       "<p>106 rows × 8 columns</p>\n",
       "</div>"
      ],
      "text/plain": [
       "                                      Course Name  Ratings(out of 5) reviews  \\\n",
       "0                           What is Data Science?                4.7  56,977   \n",
       "1                          Tools for Data Science                4.5  24,584   \n",
       "2                        Data Science Methodology                4.6  18,023   \n",
       "3       Python for Data Science, AI & Development                4.6  27,986   \n",
       "4                       Introduction to Databases                4.7      33   \n",
       "..                                            ...                ...     ...   \n",
       "101  Boosting Productivity through the Tech Stack                NaN     NaN   \n",
       "102                              Sales Enablement                NaN     NaN   \n",
       "103                                 Inbound Sales                NaN     NaN   \n",
       "104                  Lead Management with HubSpot                NaN     NaN   \n",
       "105                  Sales Reporting with HubSpot                NaN     NaN   \n",
       "\n",
       "                                    skill 1  \\\n",
       "0                              Data Science   \n",
       "1                              Data Science   \n",
       "2                              Data Science   \n",
       "3                              Data Science   \n",
       "4                           Database (DBMS)   \n",
       "..                                      ...   \n",
       "101                             Prospecting   \n",
       "102  Customer Relationship Management (CRM)   \n",
       "103                       Outreach Sequence   \n",
       "104  Customer Relationship Management (CRM)   \n",
       "105                         Data Management   \n",
       "\n",
       "                                    skill 2                  skill 3  \\\n",
       "0                             Deep Learning         Machine Learning   \n",
       "1                                    Github       Python Programming   \n",
       "2                               Data Mining              Methodology   \n",
       "3                        Python Programming            Data Analysis   \n",
       "4                                     MySQL  database administration   \n",
       "..                                      ...                      ...   \n",
       "101                       video prospecting        Sales Development   \n",
       "102                        Content Creation         Customer Success   \n",
       "103                          Social Selling      Customer Experience   \n",
       "104                           Data Analysis          Lead Management   \n",
       "105  Customer Relationship Management (CRM)            Data Analysis   \n",
       "\n",
       "               skill 4                                    skill 5  \n",
       "0             Big Data                                Data Mining  \n",
       "1    Jupyter notebooks                                    Rstudio  \n",
       "2                  NaN                                        NaN  \n",
       "3               Pandas                                      Numpy  \n",
       "4                  NaN                                        NaN  \n",
       "..                 ...                                        ...  \n",
       "101   sales engagement  Customer Relationship Management Software  \n",
       "102              Sales                           Sales Enablement  \n",
       "103       Inside Sales                         Sales Presentation  \n",
       "104                NaN                                        NaN  \n",
       "105              Sales               Data Visualization (DataViz)  \n",
       "\n",
       "[106 rows x 8 columns]"
      ]
     },
     "execution_count": 17,
     "metadata": {},
     "output_type": "execute_result"
    }
   ],
   "source": [
    "import pandas as pd\n",
    "\n",
    "df = pd.read_csv('courses.csv')\n",
    "df"
   ]
  },
  {
   "cell_type": "code",
   "execution_count": null,
   "id": "d02e1b5a",
   "metadata": {},
   "outputs": [],
   "source": []
  },
  {
   "cell_type": "code",
   "execution_count": null,
   "id": "6574a29e",
   "metadata": {},
   "outputs": [],
   "source": []
  }
 ],
 "metadata": {
  "kernelspec": {
   "display_name": "data_integration_framework",
   "language": "python",
   "name": "data_integration_framework"
  },
  "language_info": {
   "codemirror_mode": {
    "name": "ipython",
    "version": 3
   },
   "file_extension": ".py",
   "mimetype": "text/x-python",
   "name": "python",
   "nbconvert_exporter": "python",
   "pygments_lexer": "ipython3",
   "version": "3.11.1"
  }
 },
 "nbformat": 4,
 "nbformat_minor": 5
}
